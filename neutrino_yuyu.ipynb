{
 "cells": [
  {
   "cell_type": "code",
   "execution_count": 2,
   "metadata": {},
   "outputs": [
    {
     "name": "stderr",
     "output_type": "stream",
     "text": [
      "/tmp/ipykernel_45291/4016521052.py:16: DeprecationWarning: Importing display from IPython.core.display is deprecated since IPython 7.14, please import from IPython.display\n",
      "  from IPython.core.display import display, HTML\n"
     ]
    },
    {
     "data": {
      "text/html": [
       "<style>.container { width:100% !important; }</style>"
      ],
      "text/plain": [
       "<IPython.core.display.HTML object>"
      ]
     },
     "metadata": {},
     "output_type": "display_data"
    },
    {
     "name": "stderr",
     "output_type": "stream",
     "text": [
      "/tmp/ipykernel_45291/4016521052.py:18: FutureWarning: The 'delim_whitespace' keyword in pd.read_csv is deprecated and will be removed in a future version. Use ``sep='\\s+'`` instead\n",
      "  symbol = pd.read_csv('/local/dist/tetrion/conf/conf/symbol.table', skiprows= 1, header = 2,  delim_whitespace=True)\n"
     ]
    }
   ],
   "source": [
    "import tetrion.commands as cmd\n",
    "import tetrion.db\n",
    "import tetrion.options\n",
    "import tetrion.clientcore\n",
    "import datetime as dt\n",
    "import tetrion.config\n",
    "import statsmodels.api as sm\n",
    "import pandas as pd\n",
    "import zmq\n",
    "import ujson\n",
    "import pickle\n",
    "import glob\n",
    "import seaborn as sns\n",
    "import numpy as np\n",
    "import sys\n",
    "from IPython.core.display import display, HTML\n",
    "display(HTML(\"<style>.container { width:100% !important; }</style>\"))\n",
    "symbol = pd.read_csv('/local/dist/tetrion/conf/conf/symbol.table', skiprows= 1, header = 2,  delim_whitespace=True)\n",
    "from joblib import Parallel, delayed\n",
    "import collections\n",
    "import multiprocessing\n",
    "import itertools\n",
    "import redis\n",
    "import json\n",
    "pd.set_option('display.max_rows', 100)\n",
    "pd.set_option('display.max_columns', 100)"
   ]
  },
  {
   "cell_type": "code",
   "execution_count": 3,
   "metadata": {},
   "outputs": [],
   "source": [
    "import redis\n",
    "import json\n",
    "def get_fills_from_redis(strat = 'capital_txo_main', acc='TAIFEX100',date=dt.date.today(),night_session=False, redishost='prod1.capital.radiant-knight.com'):\n",
    "    r = redis.StrictRedis(host=redishost, port=6379,db=0)\n",
    "    rk = '{}:{}'.format(acc, date.strftime('%Y%m%d'))\n",
    "    rk_strat = '{}:{}'.format(strat, date.strftime('%Y%m%d'))\n",
    "    if night_session:\n",
    "        rk = rk + 'E'\n",
    "        rk_strat = rk_strat + 'E'\n",
    "    if rk not in [k.decode() for k in r.keys()]:\n",
    "        print('Key:{} not exists!'.format(rk))\n",
    "        if rk_strat in [k.decode() for k in r.keys()]:\n",
    "            rk = rk_strat\n",
    "        else:\n",
    "            return None\n",
    "    msgs = r.lrange(rk, 0, -1)\n",
    "    trd_df = pd.DataFrame([json.loads(m.decode()) for m in msgs])\n",
    "    if trd_df.empty:\n",
    "        print('Empty redis key')\n",
    "        return None\n",
    "    if trd_df['ts'][0] > 1e11:\n",
    "        trd_df['time'] = trd_df['ts'].apply(lambda x:dt.datetime.fromtimestamp(x/1e6))\n",
    "    else:\n",
    "        trd_df['time'] = trd_df['ts'].apply(lambda x:dt.datetime.fromtimestamp(x))\n",
    "    trd_df.set_index('time',inplace=True)\n",
    "\n",
    "    return trd_df"
   ]
  },
  {
   "cell_type": "code",
   "execution_count": 5,
   "metadata": {},
   "outputs": [
    {
     "name": "stdout",
     "output_type": "stream",
     "text": [
      "Key:TAIFEX100:20250617 not exists!\n",
      "Key:TAIFEX100:20250617 not exists!\n"
     ]
    }
   ],
   "source": [
    "def compute_fee(product, px, sz, mult):\n",
    "    tax_rate = 0.00002\n",
    "    fee_map = {\n",
    "        'TXF': 20,\n",
    "        'MXF': 12.5,\n",
    "        'TMF': 8.0,\n",
    "        'FXF': 20,\n",
    "        'ZFF': 8.0\n",
    "    }\n",
    "    fix_fee = fee_map.get(product[:3], 0)\n",
    "    if fix_fee == 0:\n",
    "        print('Unknown product:', product)\n",
    "    tax_fee = abs(px * sz * mult) * tax_rate\n",
    "    return abs(sz * fix_fee) + tax_fee\n",
    "\n",
    "\n",
    "def daily_pnl_neutrino(strategy, d, night=False):\n",
    "    trade_fill = get_fills_from_redis(strategy, date=d, night_session=night).reset_index()\n",
    "    floor = '5f' if strategy.endswith('5f') else '6f'\n",
    "    \n",
    "    pnl_records = []\n",
    "    fill_records = []\n",
    "\n",
    "    if trade_fill.empty:\n",
    "        pnl_records.append([floor, 'NaN', 0])\n",
    "    else:\n",
    "        trade_fill['expiry'] = trade_fill['instr'].str[-6:]\n",
    "        trade_fill['contract'] = trade_fill['instr'].str[-10:-7]\n",
    "        \n",
    "        for expiry, group in trade_fill.groupby('expiry'):\n",
    "            group = group.sort_values(by='ts')\n",
    "            pos = value = 0\n",
    "            context = {'alqortake': '', 'contract': '', 'time': None}\n",
    "\n",
    "            for _, row in group.iterrows():\n",
    "                contract, px, sz, mult = row['contract'], row['px'], row['sz'], row['mult']\n",
    "                pos += sz * mult\n",
    "                value -= px * mult * sz\n",
    "                value -= compute_fee(contract, px, sz, mult)\n",
    "\n",
    "                if pos != 0:\n",
    "                    if not context['alqortake']:\n",
    "                        context.update({'alqortake': row['alqortake'], 'contract': contract})\n",
    "                    if context['time'] is None:\n",
    "                        context['time'] = row['time']\n",
    "                else:\n",
    "                    tp = 'fire' if (context['alqortake'] == 'take' and context['alqortake'] == row['alqortake'] and context['contract'] != contract) else 'quoting'\n",
    "                    fill_records.append([context['time'], floor, expiry, value, tp])\n",
    "                    pnl_records.append([floor, expiry, value])\n",
    "                    value = 0\n",
    "                    context = {'alqortake': '', 'contract': '', 'time': None}\n",
    "\n",
    "    pnl_df = pd.DataFrame(pnl_records, columns=['floor', 'expiry', 'pnl(twd)'])\n",
    "    pnl_fill = pd.DataFrame(fill_records, columns=['time', 'floor', 'expiry', 'pnl(twd)', 'type'])\n",
    "    return pnl_df, pnl_fill\n",
    "\n",
    "\n",
    "# 執行分析\n",
    "import datetime as dt\n",
    "\n",
    "date = dt.date(2025, 6, 17)\n",
    "strategies = ['capital_neutrino_txf_5f', 'capital_neutrino_txf']\n",
    "\n",
    "all_pnl, all_fill = [], []\n",
    "for s in strategies:\n",
    "    pnl_df, pnl_fill = daily_pnl_neutrino(s, date)\n",
    "    all_pnl.append(pnl_df)\n",
    "    all_fill.append(pnl_fill)\n"
   ]
  },
  {
   "cell_type": "code",
   "execution_count": 7,
   "metadata": {},
   "outputs": [
    {
     "data": {
      "text/html": [
       "<div>\n",
       "<style scoped>\n",
       "    .dataframe tbody tr th:only-of-type {\n",
       "        vertical-align: middle;\n",
       "    }\n",
       "\n",
       "    .dataframe tbody tr th {\n",
       "        vertical-align: top;\n",
       "    }\n",
       "\n",
       "    .dataframe thead th {\n",
       "        text-align: right;\n",
       "    }\n",
       "</style>\n",
       "<table border=\"1\" class=\"dataframe\">\n",
       "  <thead>\n",
       "    <tr style=\"text-align: right;\">\n",
       "      <th>floor</th>\n",
       "      <th>5f</th>\n",
       "      <th>6f</th>\n",
       "    </tr>\n",
       "    <tr>\n",
       "      <th>expiry</th>\n",
       "      <th></th>\n",
       "      <th></th>\n",
       "    </tr>\n",
       "  </thead>\n",
       "  <tbody>\n",
       "    <tr>\n",
       "      <th>202506</th>\n",
       "      <td>325.569</td>\n",
       "      <td>475.564</td>\n",
       "    </tr>\n",
       "    <tr>\n",
       "      <th>202507</th>\n",
       "      <td>1006.289</td>\n",
       "      <td>806.285</td>\n",
       "    </tr>\n",
       "    <tr>\n",
       "      <th>sum</th>\n",
       "      <td>1331.858</td>\n",
       "      <td>1281.849</td>\n",
       "    </tr>\n",
       "  </tbody>\n",
       "</table>\n",
       "</div>"
      ],
      "text/plain": [
       "floor         5f        6f\n",
       "expiry                    \n",
       "202506   325.569   475.564\n",
       "202507  1006.289   806.285\n",
       "sum     1331.858  1281.849"
      ]
     },
     "execution_count": 7,
     "metadata": {},
     "output_type": "execute_result"
    }
   ],
   "source": [
    "\n",
    "result1 = pd.concat(all_pnl).groupby(['floor', 'expiry']).sum().reset_index()\n",
    "result1 = result1.pivot(index='expiry', columns='floor', values='pnl(twd)').fillna(0)\n",
    "result1 = result1.loc[~(result1.sum(axis=1) == 0)]\n",
    "result1.loc['sum'] = result1.sum()\n",
    "result1\n",
    "\n",
    "\n"
   ]
  },
  {
   "cell_type": "code",
   "execution_count": 9,
   "metadata": {},
   "outputs": [],
   "source": [
    "# 收集所有策略的 fill 資料\n",
    "result2 = pd.concat(all_fill).sort_values(by='time').reset_index(drop=True)\n"
   ]
  },
  {
   "cell_type": "code",
   "execution_count": 11,
   "metadata": {},
   "outputs": [],
   "source": [
    "summary = (\n",
    "    result2.groupby(['floor', 'type'])\n",
    "    .agg(\n",
    "        pnl_sum=('pnl(twd)', 'sum'),\n",
    "        count=('pnl(twd)', 'count')\n",
    "    )\n",
    "    .unstack(level='floor')\n",
    "    .fillna(0)\n",
    "    .astype(int)\n",
    ")\n",
    "\n",
    "\n"
   ]
  },
  {
   "cell_type": "code",
   "execution_count": 12,
   "metadata": {},
   "outputs": [
    {
     "data": {
      "text/html": [
       "<div>\n",
       "<style scoped>\n",
       "    .dataframe tbody tr th:only-of-type {\n",
       "        vertical-align: middle;\n",
       "    }\n",
       "\n",
       "    .dataframe tbody tr th {\n",
       "        vertical-align: top;\n",
       "    }\n",
       "\n",
       "    .dataframe thead tr th {\n",
       "        text-align: left;\n",
       "    }\n",
       "\n",
       "    .dataframe thead tr:last-of-type th {\n",
       "        text-align: right;\n",
       "    }\n",
       "</style>\n",
       "<table border=\"1\" class=\"dataframe\">\n",
       "  <thead>\n",
       "    <tr>\n",
       "      <th></th>\n",
       "      <th colspan=\"2\" halign=\"left\">pnl_sum</th>\n",
       "      <th colspan=\"2\" halign=\"left\">count</th>\n",
       "    </tr>\n",
       "    <tr>\n",
       "      <th>floor</th>\n",
       "      <th>5f</th>\n",
       "      <th>6f</th>\n",
       "      <th>5f</th>\n",
       "      <th>6f</th>\n",
       "    </tr>\n",
       "    <tr>\n",
       "      <th>type</th>\n",
       "      <th></th>\n",
       "      <th></th>\n",
       "      <th></th>\n",
       "      <th></th>\n",
       "    </tr>\n",
       "  </thead>\n",
       "  <tbody>\n",
       "    <tr>\n",
       "      <th>quoting</th>\n",
       "      <td>1331</td>\n",
       "      <td>1281</td>\n",
       "      <td>3</td>\n",
       "      <td>3</td>\n",
       "    </tr>\n",
       "  </tbody>\n",
       "</table>\n",
       "</div>"
      ],
      "text/plain": [
       "        pnl_sum       count   \n",
       "floor        5f    6f    5f 6f\n",
       "type                          \n",
       "quoting    1331  1281     3  3"
      ]
     },
     "execution_count": 12,
     "metadata": {},
     "output_type": "execute_result"
    }
   ],
   "source": [
    "summary"
   ]
  },
  {
   "cell_type": "code",
   "execution_count": 13,
   "metadata": {},
   "outputs": [],
   "source": [
    "def compute_fee(product, px, sz, mult):\n",
    "    tax_rate = 0.00002\n",
    "    fee_map = {\n",
    "        'TXF': 20,\n",
    "        'MXF': 12.5,\n",
    "        'TMF': 8.0,\n",
    "        'FXF': 20,\n",
    "        'ZFF': 8.0\n",
    "    }\n",
    "    fix_fee = fee_map.get(product[:3], 0)\n",
    "    if fix_fee == 0:\n",
    "        print('Unknown product:', product)\n",
    "    tax_fee = abs(px * sz * mult) * tax_rate\n",
    "    return abs(sz * fix_fee) + tax_fee\n",
    "\n",
    "\n",
    "def daily_pnl_neutrino(strategy, d, night=False):\n",
    "    trade_fill = get_fills_from_redis(strategy, date=d, night_session=night).reset_index()\n",
    "    floor = '6f'  # 只處理六樓\n",
    "    \n",
    "    pnl_records = []\n",
    "    fill_records = []\n",
    "\n",
    "    if trade_fill.empty:\n",
    "        pnl_records.append([floor, 'NaN', 0])\n",
    "    else:\n",
    "        trade_fill['expiry'] = trade_fill['instr'].str[-6:]\n",
    "        trade_fill['contract'] = trade_fill['instr'].str[-10:-7]\n",
    "        \n",
    "        for expiry, group in trade_fill.groupby('expiry'):\n",
    "            group = group.sort_values(by='ts')\n",
    "            pos = value = 0\n",
    "            context = {'alqortake': '', 'contract': '', 'time': None}\n",
    "\n",
    "            for _, row in group.iterrows():\n",
    "                contract, px, sz, mult = row['contract'], row['px'], row['sz'], row['mult']\n",
    "                pos += sz * mult\n",
    "                value -= px * mult * sz\n",
    "                value -= compute_fee(contract, px, sz, mult)\n",
    "\n",
    "                if pos != 0:\n",
    "                    if not context['alqortake']:\n",
    "                        context.update({'alqortake': row['alqortake'], 'contract': contract})\n",
    "                    if context['time'] is None:\n",
    "                        context['time'] = row['time']\n",
    "                else:\n",
    "                    tp = 'fire' if (context['alqortake'] == 'take' and context['alqortake'] == row['alqortake'] and context['contract'] != contract) else 'quoting'\n",
    "                    fill_records.append([context['time'], floor, expiry, value, tp])\n",
    "                    pnl_records.append([floor, expiry, value])\n",
    "                    value = 0\n",
    "                    context = {'alqortake': '', 'contract': '', 'time': None}\n",
    "\n",
    "    pnl_df = pd.DataFrame(pnl_records, columns=['floor', 'expiry', 'pnl(twd)'])\n",
    "    pnl_fill = pd.DataFrame(fill_records, columns=['time', 'floor', 'expiry', 'pnl(twd)', 'type'])\n",
    "    return pnl_df, pnl_fill\n"
   ]
  },
  {
   "cell_type": "code",
   "execution_count": 14,
   "metadata": {},
   "outputs": [
    {
     "name": "stdout",
     "output_type": "stream",
     "text": [
      "Key:TAIFEX100:20250617 not exists!\n",
      "Key:TAIFEX100:20250617E not exists!\n",
      "floor     6f\n",
      "expiry      \n",
      "202506   429\n",
      "202507 1,580\n",
      "sum    2,009\n"
     ]
    }
   ],
   "source": [
    "import datetime as dt\n",
    "\n",
    "date = dt.date(2025, 6, 17)\n",
    "strategy = 'capital_neutrino_txf'  # 六樓\n",
    "\n",
    "# 執行日盤\n",
    "pnl_day, fill_day = daily_pnl_neutrino(strategy, date, night=False)\n",
    "\n",
    "# 執行夜盤\n",
    "pnl_night, fill_night = daily_pnl_neutrino(strategy, date, night=True)\n",
    "\n",
    "# 合併結果\n",
    "result1 = pd.concat([pnl_day, pnl_night]).groupby(['floor', 'expiry']).sum().reset_index()\n",
    "result1 = result1.pivot(index='expiry', columns='floor', values='pnl(twd)').fillna(0)\n",
    "result1 = result1.loc[~(result1.sum(axis=1) == 0)]\n",
    "result1.loc['sum'] = result1.sum()\n",
    "\n",
    "result2 = pd.concat([fill_day, fill_night]).sort_values(by='time').reset_index(drop=True)\n",
    "\n",
    "# 輸出\n",
    "with pd.option_context('display.float_format', '{:,.0f}'.format):\n",
    "    print(result1)\n"
   ]
  },
  {
   "cell_type": "code",
   "execution_count": null,
   "metadata": {},
   "outputs": [],
   "source": []
  }
 ],
 "metadata": {
  "kernelspec": {
   "display_name": "Python 3",
   "language": "python",
   "name": "python3"
  },
  "language_info": {
   "codemirror_mode": {
    "name": "ipython",
    "version": 3
   },
   "file_extension": ".py",
   "mimetype": "text/x-python",
   "name": "python",
   "nbconvert_exporter": "python",
   "pygments_lexer": "ipython3",
   "version": "3.10.12"
  }
 },
 "nbformat": 4,
 "nbformat_minor": 2
}
