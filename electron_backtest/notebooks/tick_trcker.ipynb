{
 "cells": [
  {
   "cell_type": "code",
   "execution_count": 1,
   "metadata": {},
   "outputs": [],
   "source": [
    "import sys\n",
    "import os\n",
    "sys.path.append(os.path.abspath(\"..\"))\n",
    "from Backtestingtools.electron_pnl_analyzer import PnLAnalyzer\n",
    "from Backtestingtools import trade_loader\n",
    "from Backtestingtools.ticks_and_books_helper import load_ticks_and_books , MarketDataAnalyzer\n",
    "import datetime as dt\n",
    "import pandas as pd\n"
   ]
  },
  {
   "cell_type": "code",
   "execution_count": 2,
   "metadata": {},
   "outputs": [
    {
     "name": "stderr",
     "output_type": "stream",
     "text": [
      "WARNING: MYSQL_OPT_RECONNECT is deprecated and will be removed in a future version.\n",
      "WARNING: MYSQL_OPT_RECONNECT is deprecated and will be removed in a future version.\n",
      "WARNING: MYSQL_OPT_RECONNECT is deprecated and will be removed in a future version.\n",
      "WARNING: MYSQL_OPT_RECONNECT is deprecated and will be removed in a future version.\n"
     ]
    }
   ],
   "source": [
    "raw_data = load_ticks_and_books([\"TMF\", \"TXF\"], dt.date(2025, 3, 7), source=\"SRC_TAIFEX_RT_RD.ORIG_CPBQ.DEST_CPBQ\")\n"
   ]
  },
  {
   "cell_type": "code",
   "execution_count": 5,
   "metadata": {},
   "outputs": [],
   "source": [
    "t = pd.Timestamp(\"2025-03-07 21:30:04.061925\")\n"
   ]
  },
  {
   "cell_type": "code",
   "execution_count": 6,
   "metadata": {},
   "outputs": [],
   "source": [
    "market = MarketDataAnalyzer(raw_data)"
   ]
  },
  {
   "cell_type": "code",
   "execution_count": 8,
   "metadata": {},
   "outputs": [],
   "source": [
    "def query_book_between(df_book, timestamp, window_ms=1000):\n",
    "    \"\"\"\n",
    "    查詢 timestamp 前後 window_ms 毫秒內的五檔資料 snapshot。\n",
    "    \"\"\"\n",
    "    if df_book.empty:\n",
    "        print(\"⚠ df_book 是空的\")\n",
    "        return df_book\n",
    "\n",
    "    if not isinstance(df_book.index, pd.DatetimeIndex):\n",
    "        df_book.index = pd.to_datetime(df_book.index)\n",
    "\n",
    "    start = timestamp - pd.Timedelta(milliseconds=window_ms)\n",
    "    end = timestamp + pd.Timedelta(milliseconds=window_ms)\n",
    "\n",
    "    df_window = df_book.loc[(df_book.index >= start) & (df_book.index <= end)]\n",
    "    print(f\"查詢範圍：{start} ~ {end}\")\n",
    "    print(f\"找到 {len(df_window)} 筆資料\")\n",
    "\n",
    "    return df_window\n"
   ]
  },
  {
   "cell_type": "code",
   "execution_count": 10,
   "metadata": {},
   "outputs": [
    {
     "name": "stdout",
     "output_type": "stream",
     "text": [
      "查詢範圍：2025-03-04 21:30:01.123000 ~ 2025-03-04 21:30:03.123000\n",
      "找到 0 筆資料\n",
      "Empty DataFrame\n",
      "Columns: [bid_sz4, bid_sz3, bid_sz2, bid_sz1, bid_sz, bid_px4, bid_px3, bid_px2, bid_px1, bid_px, mid_px, ask_px, ask_px1, ask_px2, ask_px3, ask_px4, ask_sz, ask_sz1, ask_sz2, ask_sz3, ask_sz4]\n",
      "Index: []\n",
      "\n",
      "[0 rows x 21 columns]\n"
     ]
    }
   ],
   "source": [
    "# 設定某個成交時間（timestamp）\n",
    "some_time = pd.Timestamp(\"2025-03-04 21:30:02.123\")\n",
    "\n",
    "# 直接測試\n",
    "df_window = query_book_between(raw_data['TMF']['book'], some_time, window_ms=1000)\n",
    "\n",
    "# 顯示結果\n",
    "print(df_window.head())\n"
   ]
  },
  {
   "cell_type": "code",
   "execution_count": null,
   "metadata": {},
   "outputs": [],
   "source": []
  },
  {
   "cell_type": "code",
   "execution_count": null,
   "metadata": {},
   "outputs": [],
   "source": []
  }
 ],
 "metadata": {
  "kernelspec": {
   "display_name": "Python 3",
   "language": "python",
   "name": "python3"
  },
  "language_info": {
   "codemirror_mode": {
    "name": "ipython",
    "version": 3
   },
   "file_extension": ".py",
   "mimetype": "text/x-python",
   "name": "python",
   "nbconvert_exporter": "python",
   "pygments_lexer": "ipython3",
   "version": "3.10.12"
  }
 },
 "nbformat": 4,
 "nbformat_minor": 2
}
