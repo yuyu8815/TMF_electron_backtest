{
 "cells": [
  {
   "cell_type": "code",
   "execution_count": 1,
   "metadata": {},
   "outputs": [],
   "source": [
    "import sys\n",
    "import os\n",
    "sys.path.append(os.path.abspath(\"..\"))\n",
    "import datetime as dt\n",
    "import pandas as pd\n",
    "import tetrion.commands as cmd\n",
    "from Backtestingtools.ticks_and_books_helper import MarketDataAnalyzer2\n"
   ]
  },
  {
   "cell_type": "code",
   "execution_count": null,
   "metadata": {},
   "outputs": [
    {
     "name": "stderr",
     "output_type": "stream",
     "text": [
      "WARNING: MYSQL_OPT_RECONNECT is deprecated and will be removed in a future version.\n",
      "WARNING: MYSQL_OPT_RECONNECT is deprecated and will be removed in a future version.\n"
     ]
    }
   ],
   "source": [
    "df_book = cmd.book_printer_v2(\"FUT_TAIFEX_TMF:202503\", dt.date(2025, 3, 7), source=\"SRC_TAIFEX_RT_RD.ORIG_CPBQ.DEST_CPBQ\", depth=5)\n",
    "df_book.index = pd.to_datetime(df_book.index)\n",
    "df_tick= cmd.tick_printer('FUT_TAIFEX_TMF:202503',dt.date(2025,3,7))\n",
    "df_tick.index = pd.to_datetime(df_tick.index)\n"
   ]
  },
  {
   "cell_type": "code",
   "execution_count": 8,
   "metadata": {},
   "outputs": [],
   "source": [
    "analyzer = MarketDataAnalyzer2(df_tick, df_book)\n"
   ]
  },
  {
   "cell_type": "code",
   "execution_count": 9,
   "metadata": {},
   "outputs": [
    {
     "name": "stdout",
     "output_type": "stream",
     "text": [
      "2025-03-07 01:04:39.602784 ~ 2025-03-07 01:04:39.602784 | sell | 1 筆 | 平均穿價 1.00\n",
      "2025-03-07 01:06:43.602812 ~ 2025-03-07 01:06:43.602812 | buy | 1 筆 | 平均穿價 1.00\n",
      "2025-03-07 09:00:21.364940 ~ 2025-03-07 09:00:21.364940 | buy | 1 筆 | 平均穿價 1.00\n",
      "2025-03-07 10:10:20.365159 ~ 2025-03-07 10:10:20.365159 | sell | 1 筆 | 平均穿價 1.00\n",
      "2025-03-07 21:30:02.826733 ~ 2025-03-07 21:30:02.826733 | sell | 1 筆 | 平均穿價 1.00\n"
     ]
    }
   ],
   "source": [
    "events = analyzer.detect_trade_through()\n",
    "\n",
    "for e in events:\n",
    "    print(f\"{e['start_time']} ~ {e['end_time']} | {e['direction']} | {e['count']} 筆 | 平均穿價 {e['avg_diff']:.2f}\")\n"
   ]
  },
  {
   "cell_type": "code",
   "execution_count": 3,
   "metadata": {},
   "outputs": [],
   "source": [
    "import pandas as pd\n",
    "\n",
    "def detect_trade_through_from_book(df_tick, df_book, merge_window_ms=1000):\n",
    "    \"\"\"\n",
    "    Detect trade‐through events by comparing each tick's price against the most\n",
    "    recent book snapshot (bid_px/ask_px). Consecutive events of the same\n",
    "    direction within merge_window_ms are merged into one “wave.”\n",
    "\n",
    "    Returns:\n",
    "        List of dicts, each with keys:\n",
    "          • start_time: Timestamp of the first tick in the wave\n",
    "          • end_time:   Timestamp of the last tick in the wave\n",
    "          • direction:  \"buy\" or \"sell\"\n",
    "          • count:      number of ticks in that wave\n",
    "          • avg_diff:   average price difference from the book\n",
    "    \"\"\"\n",
    "    events = []\n",
    "\n",
    "    # 1) Collect individual trade‐through ticks\n",
    "    for t, row in df_tick.iterrows():\n",
    "        px = row.get(\"px\")\n",
    "        if pd.isna(px):\n",
    "            continue\n",
    "\n",
    "        # find latest book snapshot at or before t\n",
    "        try:\n",
    "            book = df_book.loc[:t].iloc[-1]\n",
    "        except IndexError:\n",
    "            continue\n",
    "\n",
    "        bid = book.get(\"bid_px\")\n",
    "        ask = book.get(\"ask_px\")\n",
    "        if pd.isna(bid) or pd.isna(ask) or bid == 0 or ask == 0:\n",
    "            continue\n",
    "\n",
    "        if px > ask:\n",
    "            events.append((t, \"buy\", px - ask))\n",
    "        elif px < bid:\n",
    "            events.append((t, \"sell\", bid - px))\n",
    "\n",
    "    if not events:\n",
    "        return []\n",
    "\n",
    "    # 2) Merge into waves\n",
    "    merged = []\n",
    "    group = [events[0]]\n",
    "    for curr in events[1:]:\n",
    "        prev = group[-1]\n",
    "        gap_ms = (curr[0] - prev[0]).total_seconds() * 1000\n",
    "        # same direction and within window → same wave\n",
    "        if curr[1] == prev[1] and gap_ms <= merge_window_ms:\n",
    "            group.append(curr)\n",
    "        else:\n",
    "            merged.append(group)\n",
    "            group = [curr]\n",
    "    merged.append(group)\n",
    "\n",
    "    # 3) Summarize each wave\n",
    "    results = []\n",
    "    for g in merged:\n",
    "        start = g[0][0]\n",
    "        end   = g[-1][0]\n",
    "        direction = g[0][1]\n",
    "        count     = len(g)\n",
    "        avg_diff  = sum(e[2] for e in g) / count\n",
    "        results.append({\n",
    "            \"start_time\": start,\n",
    "            \"end_time\":   end,\n",
    "            \"direction\":  direction,\n",
    "            \"count\":      count,\n",
    "            \"avg_diff\":   avg_diff\n",
    "        })\n",
    "\n",
    "    return results\n"
   ]
  },
  {
   "cell_type": "code",
   "execution_count": 5,
   "metadata": {},
   "outputs": [],
   "source": [
    "import pandas as pd\n",
    "import numpy as np\n",
    "\n",
    "def align_tick_book(df_tick, df_book):\n",
    "    \"\"\"\n",
    "    用 ex_time 对齐成交和 book，返回带 px, sz, bid_px, ask_px 的 DataFrame（index=ex_time）。\n",
    "    \"\"\"\n",
    "    tick = df_tick.copy()\n",
    "    tick.index = pd.to_datetime(tick['ex_time'])\n",
    "    tick = tick.sort_index()\n",
    "    book = df_book.sort_index()\n",
    "\n",
    "    aligned = pd.merge_asof(\n",
    "        tick[['px', 'sz']],\n",
    "        book[['bid_px', 'ask_px']],\n",
    "        left_index=True,\n",
    "        right_index=True,\n",
    "        direction='backward'\n",
    "    )\n",
    "    return aligned\n",
    "\n",
    "def flag_through_ticks(df_aligned):\n",
    "    \"\"\"\n",
    "    在对齐后的 df 中新增三列：\n",
    "      buy_through  = px > ask_px\n",
    "      sell_through = px < bid_px\n",
    "      through      = buy_through OR sell_through\n",
    "    \"\"\"\n",
    "    df = df_aligned.copy()\n",
    "    df['buy_through']  = df['px'] > df['ask_px']\n",
    "    df['sell_through'] = df['px'] < df['bid_px']\n",
    "    df['through']      = df['buy_through'] | df['sell_through']\n",
    "    return df\n",
    "\n",
    "def summarize_through_events(df_flagged, merge_window_ms=1000):\n",
    "    \"\"\"\n",
    "    将连续同方向的 through_ticks（相隔 merge_window_ms 内）合并为一波事件。\n",
    "    返回 DataFrame：start_time, end_time, direction, count。\n",
    "    \"\"\"\n",
    "    # 取出所有 through-tick\n",
    "    df_thr = df_flagged[df_flagged['through']].reset_index()\n",
    "    if df_thr.empty:\n",
    "        return pd.DataFrame(columns=['start_time','end_time','direction','count'])\n",
    "\n",
    "    # 把第一列（原来的 index，不管叫啥）改名为 time\n",
    "    idx_name = df_flagged.index.name or df_thr.columns[0]\n",
    "    df_thr = df_thr.rename(columns={idx_name: 'time'})\n",
    "\n",
    "    # 方向\n",
    "    df_thr['direction'] = np.where(df_thr['buy_through'], 'buy', 'sell')\n",
    "    # 相邻穿价的时间差（毫秒）\n",
    "    df_thr['gap_ms']    = df_thr['time'].diff().dt.total_seconds() * 1000\n",
    "    # 新波：方向变 or 时间差大于阈值\n",
    "    df_thr['new_wave']  = (df_thr['direction'] != df_thr['direction'].shift()) | (df_thr['gap_ms'] > merge_window_ms)\n",
    "    df_thr['wave_id']   = df_thr['new_wave'].cumsum()\n",
    "\n",
    "    # 汇总每一波事件\n",
    "    summary = df_thr.groupby('wave_id').agg(\n",
    "        start_time = ('time','first'),\n",
    "        end_time   = ('time','last'),\n",
    "        direction  = ('direction','first'),\n",
    "        count      = ('time','size')\n",
    "    ).reset_index(drop=True)\n",
    "\n",
    "    return summary\n",
    "\n"
   ]
  },
  {
   "cell_type": "code",
   "execution_count": 25,
   "metadata": {},
   "outputs": [
    {
     "name": "stdout",
     "output_type": "stream",
     "text": [
      "                                       end_time direction  count\n",
      "start_time                                                      \n",
      "2025-03-07 21:30:00.123 2025-03-07 21:30:01.099      sell     32\n"
     ]
    }
   ],
   "source": [
    "# 1. 先把 start_time 设为索引（DatetimeIndex）\n",
    "events_by_start = events.set_index('start_time')\n",
    "\n",
    "# 2. 用 between_time 筛选每天 21:30:00~21:30:01\n",
    "late_events = events_by_start.between_time('21:30:00', '21:30:01')\n",
    "\n",
    "print(late_events)"
   ]
  },
  {
   "cell_type": "code",
   "execution_count": 12,
   "metadata": {},
   "outputs": [
    {
     "data": {
      "application/vnd.microsoft.datawrangler.viewer.v0+json": {
       "columns": [
        {
         "name": "ex_time",
         "rawType": "datetime64[ns]",
         "type": "datetime"
        },
        {
         "name": "px",
         "rawType": "float64",
         "type": "float"
        },
        {
         "name": "sz",
         "rawType": "int64",
         "type": "integer"
        },
        {
         "name": "bid_px",
         "rawType": "float64",
         "type": "float"
        },
        {
         "name": "ask_px",
         "rawType": "float64",
         "type": "float"
        }
       ],
       "conversionMethod": "pd.DataFrame",
       "ref": "c28c5852-8a62-4349-9c5e-b4cb7c06048a",
       "rows": [
        [
         "2025-03-07 23:59:54.515000",
         "22436.0",
         "1",
         "22435.0",
         "22436.0"
        ],
        [
         "2025-03-07 23:59:55.540000",
         "22437.0",
         "1",
         "22436.0",
         "22437.0"
        ],
        [
         "2025-03-07 23:59:55.727000",
         "22440.0",
         "1",
         "22437.0",
         "22440.0"
        ],
        [
         "2025-03-07 23:59:58.421000",
         "22436.0",
         "1",
         "22435.0",
         "22436.0"
        ],
        [
         "2025-03-07 23:59:58.754000",
         "22435.0",
         "1",
         "22435.0",
         "22437.0"
        ]
       ],
       "shape": {
        "columns": 4,
        "rows": 5
       }
      },
      "text/html": [
       "<div>\n",
       "<style scoped>\n",
       "    .dataframe tbody tr th:only-of-type {\n",
       "        vertical-align: middle;\n",
       "    }\n",
       "\n",
       "    .dataframe tbody tr th {\n",
       "        vertical-align: top;\n",
       "    }\n",
       "\n",
       "    .dataframe thead th {\n",
       "        text-align: right;\n",
       "    }\n",
       "</style>\n",
       "<table border=\"1\" class=\"dataframe\">\n",
       "  <thead>\n",
       "    <tr style=\"text-align: right;\">\n",
       "      <th></th>\n",
       "      <th>px</th>\n",
       "      <th>sz</th>\n",
       "      <th>bid_px</th>\n",
       "      <th>ask_px</th>\n",
       "    </tr>\n",
       "    <tr>\n",
       "      <th>ex_time</th>\n",
       "      <th></th>\n",
       "      <th></th>\n",
       "      <th></th>\n",
       "      <th></th>\n",
       "    </tr>\n",
       "  </thead>\n",
       "  <tbody>\n",
       "    <tr>\n",
       "      <th>2025-03-07 23:59:54.515</th>\n",
       "      <td>22436.0</td>\n",
       "      <td>1</td>\n",
       "      <td>22435.0</td>\n",
       "      <td>22436.0</td>\n",
       "    </tr>\n",
       "    <tr>\n",
       "      <th>2025-03-07 23:59:55.540</th>\n",
       "      <td>22437.0</td>\n",
       "      <td>1</td>\n",
       "      <td>22436.0</td>\n",
       "      <td>22437.0</td>\n",
       "    </tr>\n",
       "    <tr>\n",
       "      <th>2025-03-07 23:59:55.727</th>\n",
       "      <td>22440.0</td>\n",
       "      <td>1</td>\n",
       "      <td>22437.0</td>\n",
       "      <td>22440.0</td>\n",
       "    </tr>\n",
       "    <tr>\n",
       "      <th>2025-03-07 23:59:58.421</th>\n",
       "      <td>22436.0</td>\n",
       "      <td>1</td>\n",
       "      <td>22435.0</td>\n",
       "      <td>22436.0</td>\n",
       "    </tr>\n",
       "    <tr>\n",
       "      <th>2025-03-07 23:59:58.754</th>\n",
       "      <td>22435.0</td>\n",
       "      <td>1</td>\n",
       "      <td>22435.0</td>\n",
       "      <td>22437.0</td>\n",
       "    </tr>\n",
       "  </tbody>\n",
       "</table>\n",
       "</div>"
      ],
      "text/plain": [
       "                              px  sz   bid_px   ask_px\n",
       "ex_time                                               \n",
       "2025-03-07 23:59:54.515  22436.0   1  22435.0  22436.0\n",
       "2025-03-07 23:59:55.540  22437.0   1  22436.0  22437.0\n",
       "2025-03-07 23:59:55.727  22440.0   1  22437.0  22440.0\n",
       "2025-03-07 23:59:58.421  22436.0   1  22435.0  22436.0\n",
       "2025-03-07 23:59:58.754  22435.0   1  22435.0  22437.0"
      ]
     },
     "execution_count": 12,
     "metadata": {},
     "output_type": "execute_result"
    }
   ],
   "source": [
    "\n",
    "# ========== 示例用法 ==========\n",
    "\n",
    "# 1. 对齐\n",
    "df_aligned = align_tick_book(df_tick, df_book)\n",
    "df_aligned.tail()\n"
   ]
  },
  {
   "cell_type": "code",
   "execution_count": null,
   "metadata": {},
   "outputs": [
    {
     "data": {
      "application/vnd.microsoft.datawrangler.viewer.v0+json": {
       "columns": [
        {
         "name": "ex_time",
         "rawType": "datetime64[ns]",
         "type": "datetime"
        },
        {
         "name": "px",
         "rawType": "float64",
         "type": "float"
        },
        {
         "name": "sz",
         "rawType": "int64",
         "type": "integer"
        },
        {
         "name": "bid_px",
         "rawType": "float64",
         "type": "float"
        },
        {
         "name": "ask_px",
         "rawType": "float64",
         "type": "float"
        },
        {
         "name": "buy_through",
         "rawType": "bool",
         "type": "boolean"
        },
        {
         "name": "sell_through",
         "rawType": "bool",
         "type": "boolean"
        },
        {
         "name": "through",
         "rawType": "bool",
         "type": "boolean"
        }
       ],
       "conversionMethod": "pd.DataFrame",
       "ref": "90856c99-bb10-4491-9f6d-14118ee8189d",
       "rows": [
        [
         "2025-03-07 00:00:00.082000",
         "22653.0",
         "1",
         null,
         null,
         "False",
         "False",
         "False"
        ],
        [
         "2025-03-07 00:00:00.136000",
         "22655.0",
         "1",
         null,
         null,
         "False",
         "False",
         "False"
        ],
        [
         "2025-03-07 00:00:00.137000",
         "22655.0",
         "6",
         null,
         null,
         "False",
         "False",
         "False"
        ],
        [
         "2025-03-07 00:00:00.383000",
         "22656.0",
         "1",
         null,
         null,
         "False",
         "False",
         "False"
        ],
        [
         "2025-03-07 00:00:00.438000",
         "22656.0",
         "1",
         null,
         null,
         "False",
         "False",
         "False"
        ],
        [
         "2025-03-07 00:00:00.523000",
         "22656.0",
         "1",
         null,
         null,
         "False",
         "False",
         "False"
        ],
        [
         "2025-03-07 00:00:00.576000",
         "22656.0",
         "1",
         null,
         null,
         "False",
         "False",
         "False"
        ],
        [
         "2025-03-07 00:00:00.598000",
         "22656.0",
         "1",
         null,
         null,
         "False",
         "False",
         "False"
        ],
        [
         "2025-03-07 00:00:00.646000",
         "22655.0",
         "1",
         null,
         null,
         "False",
         "False",
         "False"
        ],
        [
         "2025-03-07 00:00:00.655000",
         "22656.0",
         "1",
         null,
         null,
         "False",
         "False",
         "False"
        ],
        [
         "2025-03-07 00:00:00.674000",
         "22656.0",
         "2",
         null,
         null,
         "False",
         "False",
         "False"
        ],
        [
         "2025-03-07 00:00:00.679000",
         "22656.0",
         "1",
         null,
         null,
         "False",
         "False",
         "False"
        ],
        [
         "2025-03-07 00:00:00.680000",
         "22657.0",
         "1",
         null,
         null,
         "False",
         "False",
         "False"
        ],
        [
         "2025-03-07 00:00:00.748000",
         "22654.0",
         "1",
         null,
         null,
         "False",
         "False",
         "False"
        ],
        [
         "2025-03-07 00:00:00.755000",
         "22656.0",
         "1",
         null,
         null,
         "False",
         "False",
         "False"
        ],
        [
         "2025-03-07 00:00:00.781000",
         "22656.0",
         "1",
         null,
         null,
         "False",
         "False",
         "False"
        ],
        [
         "2025-03-07 00:00:00.781000",
         "22657.0",
         "1",
         null,
         null,
         "False",
         "False",
         "False"
        ],
        [
         "2025-03-07 00:00:00.833000",
         "22657.0",
         "1",
         null,
         null,
         "False",
         "False",
         "False"
        ],
        [
         "2025-03-07 00:00:00.911000",
         "22658.0",
         "1",
         null,
         null,
         "False",
         "False",
         "False"
        ],
        [
         "2025-03-07 00:00:00.956000",
         "22658.0",
         "1",
         null,
         null,
         "False",
         "False",
         "False"
        ],
        [
         "2025-03-07 00:00:01.115000",
         "22658.0",
         "1",
         null,
         null,
         "False",
         "False",
         "False"
        ],
        [
         "2025-03-07 00:00:01.126000",
         "22657.0",
         "1",
         null,
         null,
         "False",
         "False",
         "False"
        ],
        [
         "2025-03-07 00:00:01.176000",
         "22658.0",
         "1",
         null,
         null,
         "False",
         "False",
         "False"
        ],
        [
         "2025-03-07 00:00:01.176000",
         "22658.0",
         "1",
         null,
         null,
         "False",
         "False",
         "False"
        ],
        [
         "2025-03-07 00:00:01.176000",
         "22658.0",
         "1",
         null,
         null,
         "False",
         "False",
         "False"
        ],
        [
         "2025-03-07 00:00:01.565000",
         "22659.0",
         "4",
         null,
         null,
         "False",
         "False",
         "False"
        ],
        [
         "2025-03-07 00:00:01.702000",
         "22658.0",
         "2",
         null,
         null,
         "False",
         "False",
         "False"
        ],
        [
         "2025-03-07 00:00:01.991000",
         "22659.0",
         "1",
         null,
         null,
         "False",
         "False",
         "False"
        ],
        [
         "2025-03-07 00:00:02.129000",
         "22659.0",
         "1",
         null,
         null,
         "False",
         "False",
         "False"
        ],
        [
         "2025-03-07 00:00:02.196000",
         "22659.0",
         "1",
         null,
         null,
         "False",
         "False",
         "False"
        ],
        [
         "2025-03-07 00:00:02.679000",
         "22658.0",
         "1",
         null,
         null,
         "False",
         "False",
         "False"
        ],
        [
         "2025-03-07 00:00:02.943000",
         "22660.0",
         "3",
         null,
         null,
         "False",
         "False",
         "False"
        ],
        [
         "2025-03-07 00:00:03.013000",
         "22660.0",
         "2",
         null,
         null,
         "False",
         "False",
         "False"
        ],
        [
         "2025-03-07 00:00:03.411000",
         "22660.0",
         "2",
         null,
         null,
         "False",
         "False",
         "False"
        ],
        [
         "2025-03-07 00:00:03.445000",
         "22660.0",
         "4",
         null,
         null,
         "False",
         "False",
         "False"
        ],
        [
         "2025-03-07 00:00:03.445000",
         "22660.0",
         "1",
         null,
         null,
         "False",
         "False",
         "False"
        ],
        [
         "2025-03-07 00:00:03.446000",
         "22660.0",
         "1",
         null,
         null,
         "False",
         "False",
         "False"
        ],
        [
         "2025-03-07 00:00:03.446000",
         "22660.0",
         "2",
         null,
         null,
         "False",
         "False",
         "False"
        ],
        [
         "2025-03-07 00:00:03.532000",
         "22661.0",
         "1",
         null,
         null,
         "False",
         "False",
         "False"
        ],
        [
         "2025-03-07 00:00:03.881000",
         "22661.0",
         "1",
         null,
         null,
         "False",
         "False",
         "False"
        ],
        [
         "2025-03-07 00:00:04.013000",
         "22660.0",
         "1",
         null,
         null,
         "False",
         "False",
         "False"
        ],
        [
         "2025-03-07 00:00:04.334000",
         "22660.0",
         "3",
         null,
         null,
         "False",
         "False",
         "False"
        ],
        [
         "2025-03-07 00:00:04.334000",
         "22659.0",
         "1",
         null,
         null,
         "False",
         "False",
         "False"
        ],
        [
         "2025-03-07 00:00:04.382000",
         "22660.0",
         "1",
         null,
         null,
         "False",
         "False",
         "False"
        ],
        [
         "2025-03-07 00:00:04.473000",
         "22661.0",
         "1",
         null,
         null,
         "False",
         "False",
         "False"
        ],
        [
         "2025-03-07 00:00:05.010000",
         "22662.0",
         "1",
         null,
         null,
         "False",
         "False",
         "False"
        ],
        [
         "2025-03-07 00:00:05.010000",
         "22663.0",
         "1",
         null,
         null,
         "False",
         "False",
         "False"
        ],
        [
         "2025-03-07 00:00:05.030000",
         "22663.0",
         "1",
         null,
         null,
         "False",
         "False",
         "False"
        ],
        [
         "2025-03-07 00:00:05.183000",
         "22660.0",
         "1",
         null,
         null,
         "False",
         "False",
         "False"
        ],
        [
         "2025-03-07 00:00:05.521000",
         "22660.0",
         "1",
         null,
         null,
         "False",
         "False",
         "False"
        ]
       ],
       "shape": {
        "columns": 7,
        "rows": 107488
       }
      },
      "text/html": [
       "<div>\n",
       "<style scoped>\n",
       "    .dataframe tbody tr th:only-of-type {\n",
       "        vertical-align: middle;\n",
       "    }\n",
       "\n",
       "    .dataframe tbody tr th {\n",
       "        vertical-align: top;\n",
       "    }\n",
       "\n",
       "    .dataframe thead th {\n",
       "        text-align: right;\n",
       "    }\n",
       "</style>\n",
       "<table border=\"1\" class=\"dataframe\">\n",
       "  <thead>\n",
       "    <tr style=\"text-align: right;\">\n",
       "      <th></th>\n",
       "      <th>px</th>\n",
       "      <th>sz</th>\n",
       "      <th>bid_px</th>\n",
       "      <th>ask_px</th>\n",
       "      <th>buy_through</th>\n",
       "      <th>sell_through</th>\n",
       "      <th>through</th>\n",
       "    </tr>\n",
       "    <tr>\n",
       "      <th>ex_time</th>\n",
       "      <th></th>\n",
       "      <th></th>\n",
       "      <th></th>\n",
       "      <th></th>\n",
       "      <th></th>\n",
       "      <th></th>\n",
       "      <th></th>\n",
       "    </tr>\n",
       "  </thead>\n",
       "  <tbody>\n",
       "    <tr>\n",
       "      <th>2025-03-07 00:00:00.082</th>\n",
       "      <td>22653.0</td>\n",
       "      <td>1</td>\n",
       "      <td>NaN</td>\n",
       "      <td>NaN</td>\n",
       "      <td>False</td>\n",
       "      <td>False</td>\n",
       "      <td>False</td>\n",
       "    </tr>\n",
       "    <tr>\n",
       "      <th>2025-03-07 00:00:00.136</th>\n",
       "      <td>22655.0</td>\n",
       "      <td>1</td>\n",
       "      <td>NaN</td>\n",
       "      <td>NaN</td>\n",
       "      <td>False</td>\n",
       "      <td>False</td>\n",
       "      <td>False</td>\n",
       "    </tr>\n",
       "    <tr>\n",
       "      <th>2025-03-07 00:00:00.137</th>\n",
       "      <td>22655.0</td>\n",
       "      <td>6</td>\n",
       "      <td>NaN</td>\n",
       "      <td>NaN</td>\n",
       "      <td>False</td>\n",
       "      <td>False</td>\n",
       "      <td>False</td>\n",
       "    </tr>\n",
       "    <tr>\n",
       "      <th>2025-03-07 00:00:00.383</th>\n",
       "      <td>22656.0</td>\n",
       "      <td>1</td>\n",
       "      <td>NaN</td>\n",
       "      <td>NaN</td>\n",
       "      <td>False</td>\n",
       "      <td>False</td>\n",
       "      <td>False</td>\n",
       "    </tr>\n",
       "    <tr>\n",
       "      <th>2025-03-07 00:00:00.438</th>\n",
       "      <td>22656.0</td>\n",
       "      <td>1</td>\n",
       "      <td>NaN</td>\n",
       "      <td>NaN</td>\n",
       "      <td>False</td>\n",
       "      <td>False</td>\n",
       "      <td>False</td>\n",
       "    </tr>\n",
       "    <tr>\n",
       "      <th>...</th>\n",
       "      <td>...</td>\n",
       "      <td>...</td>\n",
       "      <td>...</td>\n",
       "      <td>...</td>\n",
       "      <td>...</td>\n",
       "      <td>...</td>\n",
       "      <td>...</td>\n",
       "    </tr>\n",
       "    <tr>\n",
       "      <th>2025-03-07 23:59:54.515</th>\n",
       "      <td>22436.0</td>\n",
       "      <td>1</td>\n",
       "      <td>22435.0</td>\n",
       "      <td>22436.0</td>\n",
       "      <td>False</td>\n",
       "      <td>False</td>\n",
       "      <td>False</td>\n",
       "    </tr>\n",
       "    <tr>\n",
       "      <th>2025-03-07 23:59:55.540</th>\n",
       "      <td>22437.0</td>\n",
       "      <td>1</td>\n",
       "      <td>22436.0</td>\n",
       "      <td>22437.0</td>\n",
       "      <td>False</td>\n",
       "      <td>False</td>\n",
       "      <td>False</td>\n",
       "    </tr>\n",
       "    <tr>\n",
       "      <th>2025-03-07 23:59:55.727</th>\n",
       "      <td>22440.0</td>\n",
       "      <td>1</td>\n",
       "      <td>22437.0</td>\n",
       "      <td>22440.0</td>\n",
       "      <td>False</td>\n",
       "      <td>False</td>\n",
       "      <td>False</td>\n",
       "    </tr>\n",
       "    <tr>\n",
       "      <th>2025-03-07 23:59:58.421</th>\n",
       "      <td>22436.0</td>\n",
       "      <td>1</td>\n",
       "      <td>22435.0</td>\n",
       "      <td>22436.0</td>\n",
       "      <td>False</td>\n",
       "      <td>False</td>\n",
       "      <td>False</td>\n",
       "    </tr>\n",
       "    <tr>\n",
       "      <th>2025-03-07 23:59:58.754</th>\n",
       "      <td>22435.0</td>\n",
       "      <td>1</td>\n",
       "      <td>22435.0</td>\n",
       "      <td>22437.0</td>\n",
       "      <td>False</td>\n",
       "      <td>False</td>\n",
       "      <td>False</td>\n",
       "    </tr>\n",
       "  </tbody>\n",
       "</table>\n",
       "<p>107488 rows × 7 columns</p>\n",
       "</div>"
      ],
      "text/plain": [
       "                              px  sz   bid_px   ask_px  buy_through  \\\n",
       "ex_time                                                               \n",
       "2025-03-07 00:00:00.082  22653.0   1      NaN      NaN        False   \n",
       "2025-03-07 00:00:00.136  22655.0   1      NaN      NaN        False   \n",
       "2025-03-07 00:00:00.137  22655.0   6      NaN      NaN        False   \n",
       "2025-03-07 00:00:00.383  22656.0   1      NaN      NaN        False   \n",
       "2025-03-07 00:00:00.438  22656.0   1      NaN      NaN        False   \n",
       "...                          ...  ..      ...      ...          ...   \n",
       "2025-03-07 23:59:54.515  22436.0   1  22435.0  22436.0        False   \n",
       "2025-03-07 23:59:55.540  22437.0   1  22436.0  22437.0        False   \n",
       "2025-03-07 23:59:55.727  22440.0   1  22437.0  22440.0        False   \n",
       "2025-03-07 23:59:58.421  22436.0   1  22435.0  22436.0        False   \n",
       "2025-03-07 23:59:58.754  22435.0   1  22435.0  22437.0        False   \n",
       "\n",
       "                         sell_through  through  \n",
       "ex_time                                         \n",
       "2025-03-07 00:00:00.082         False    False  \n",
       "2025-03-07 00:00:00.136         False    False  \n",
       "2025-03-07 00:00:00.137         False    False  \n",
       "2025-03-07 00:00:00.383         False    False  \n",
       "2025-03-07 00:00:00.438         False    False  \n",
       "...                               ...      ...  \n",
       "2025-03-07 23:59:54.515         False    False  \n",
       "2025-03-07 23:59:55.540         False    False  \n",
       "2025-03-07 23:59:55.727         False    False  \n",
       "2025-03-07 23:59:58.421         False    False  \n",
       "2025-03-07 23:59:58.754         False    False  \n",
       "\n",
       "[107488 rows x 7 columns]"
      ]
     },
     "execution_count": 13,
     "metadata": {},
     "output_type": "execute_result"
    }
   ],
   "source": [
    "\n",
    "# 2. 标记\n",
    "df_flagged = flag_through_ticks(df_aligned)\n",
    "df_flagged\n",
    "\n",
    "\n"
   ]
  },
  {
   "cell_type": "code",
   "execution_count": null,
   "metadata": {},
   "outputs": [],
   "source": [
    "\n",
    "# 3. 查看前 10 笔穿价成交\n",
    "print(df_flagged[df_flagged['through']].head(10)[['px','bid_px','ask_px','buy_through','sell_through']])\n"
   ]
  },
  {
   "cell_type": "code",
   "execution_count": null,
   "metadata": {},
   "outputs": [],
   "source": [
    "\n",
    "# 4. 汇总事件\n",
    "events = summarize_through_events(df_flagged, merge_window_ms=1000)\n",
    "print(events)"
   ]
  }
 ],
 "metadata": {
  "kernelspec": {
   "display_name": "Python 3",
   "language": "python",
   "name": "python3"
  },
  "language_info": {
   "codemirror_mode": {
    "name": "ipython",
    "version": 3
   },
   "file_extension": ".py",
   "mimetype": "text/x-python",
   "name": "python",
   "nbconvert_exporter": "python",
   "pygments_lexer": "ipython3",
   "version": "3.10.12"
  }
 },
 "nbformat": 4,
 "nbformat_minor": 2
}
